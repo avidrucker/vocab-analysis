{
 "cells": [
  {
   "cell_type": "markdown",
   "metadata": {},
   "source": [
    "# <a id=\"top\"></a> Step 1: Identify the Question"
   ]
  },
  {
   "cell_type": "markdown",
   "metadata": {},
   "source": [
    "Q: What makes a word \"sticky\" or \"slippery\"?  \n",
    "A: Glad you asked."
   ]
  },
  {
   "cell_type": "markdown",
   "metadata": {},
   "source": [
    "Q: What are we trying to solve?  \n",
    "A: Learning a foreign language takes energy, time, and focus. It also has a stress byproduct. For a learner/student using a Spaced Repetition Software (SRS), how can they further **reduce the energy, time & focus** required, as well as **reduce stress**, by adjusting the study **content** and their study **behavior**?\n",
    "\n",
    "Q: What are **the tools** in use currently to address this question, and **the alternatives**?  \n",
    "A: The popular SRS in use today (2019) are SuperMemo, Anki & Mnemosyne. Services used for L2 language learning include Duolingo, Rosetta Stone, and Memrise. The researcher has decided to use a dataset of vocabulary study data created in **Anki**. Cards were custom made by the student. The student manually added images, audio, meta-tags, & dictionary definitions to enhance, and teacher/native speaker input to verify & validate, some (but not all) of the data. With over unique 20,000 vocabulary items, there is a robust amount of data to explore trends, distributions, & conduct exploratory analysis."
   ]
  },
  {
   "cell_type": "markdown",
   "metadata": {},
   "source": [
    "# A. Effective Language Learning Context - What is it?\n",
    "\n",
    "Language learning is believed to be affected by:\n",
    "- (1) goals, (2) preferences, (3) skills, and (4) other factors\n",
    "\n",
    "However, it is also crucial to consider:\n",
    "- (5) study behavior, (6) learning content, (7) learning/study outcomes over time (a by-product of items 1 though 6)\n",
    "\n",
    "**The goal of this project is to identify (with a data-driven approach):\n",
    "- high value targets (potential candidates) for increasing study performance.**"
   ]
  },
  {
   "cell_type": "markdown",
   "metadata": {},
   "source": [
    "# B. What makes vocab \"sticky\", what makes it \"difficult\"?\n",
    "\n",
    "- Which **learning vectors** (or combination of) give the highest efficiency (high ROI) memorization? (ie. *listening*, *reading*, *speaking*, etc.)\n",
    "- Depending on learner goal/preferences, should one use **Active recall**, **passive recognition**, or both?\n",
    "- Does **word length** have a correlation with memorability? If so, how might a learner leverage this info?\n",
    "- Does **word format** (Kanji, Hiragana, Katakana, or a mix) have a correlation with memorability? If it does, how might a learner leverage this info?\n",
    "- How about **word context** ? (conversation, nonconversation)\n",
    "- How about **word source** ? (textbook, conversation, dictionary, TV/music audio-visual media, etc.)\n",
    "- How about **word genre** ?\n",
    "- How about **abstract vs concrete** ? (abstract (happiness, love, etc.) vs concrete (food, animal, etc.))\n",
    "- How about **grammar category** ? (noun, verb, adjective, particle, etc.)\n",
    "- Where might diminishing returns come in to play in terms of study rate (overall review count, new terms, extra vectors, etc.)?\n",
    "\n",
    "\\* (prioritize for recall, while maintaining ease)  \n",
    "\\*\\* (prioritize for ease, while maintaning recall)"
   ]
  },
  {
   "cell_type": "markdown",
   "metadata": {},
   "source": [
    "# Question 1:\n",
    "\n",
    "How does the above chart compare with the variation in ease over interval? Can this be used to determine \"typically memory resistant\" (non-sticky) words?"
   ]
  },
  {
   "cell_type": "markdown",
   "metadata": {},
   "source": [
    "# Question 2:\n",
    "\n",
    "What is unique (or what can we generalize) about the words that have very high repetition counts for lower (under 100) intervals?"
   ]
  },
  {
   "cell_type": "markdown",
   "metadata": {},
   "source": [
    "After doing some basic assessments of the data, we can dig a bit deeper:\n",
    "- Is there a correlation between words having multiple readings (\"yomi\") and their forget rate\\*?\n",
    "- Is there a correlation between words having same/similar sounding words and their forget rate\\*?\n",
    "- What might the effect of word length be on memorability? \\*\\*, \\*\\*\\*\n",
    "\n",
    "> \\* Forget rate can be understand as a multitude of things, such as the ratio between lapses & reps, as well as the raw lapse count, the average interval, and other numbers/ratios to be determined. I will attempt to clarify this in the process.  \n",
    "\\*\\* Memorability being loosely correlated with forget rate, where memorability could be understood as a word/term's intrinsic \"stickiness\" in the brain, as opposed to an individual or collective's capacity to keep words/terms in their head. Sources pending.  \n",
    "\\*\\*\\* A huge caveat here being that, this dataset has a sample size of 1 (for both student and language), so all observations, interpretations, and understandings must be taken with more than a few grains of salt (and tested further with larger sample sizes, of at least 200 students, and 5 or more languages)."
   ]
  },
  {
   "cell_type": "markdown",
   "metadata": {},
   "source": [
    "### A word anout how the data was stored\n",
    "\n",
    "Anki, the Open Source, Spaced Repetition software (& app & service), saves a student's data in a few locations. There are the \"Notes\" which are the raw info used to make cards (fields of vocab data, metatags, trivia facts, images, audio, etc..) Then there are the \"Cards\" which are the actual studied items, where the study overview data is stored (such as study date-times, repetitions (reviews), intervals (how long a card is to be remembered), lapses (forgets & subsequent interval resets)). Additionally, data concerning the entire collection is stored under something cryptically called \"Columns\". Lastly, there is a \"RevLog\" which contains all the study data in detail for each individual repetition (study datetime, card studied, etc..) This document was critical to piecing together the puzzle: https://github.com/ankidroid/Anki-Android/wiki/Database-Structure"
   ]
  },
  {
   "cell_type": "markdown",
   "metadata": {},
   "source": [
    "### <a id=\"bottom\"></a> Hello there! [Back to the top](#top)"
   ]
  },
  {
   "cell_type": "code",
   "execution_count": null,
   "metadata": {},
   "outputs": [],
   "source": []
  }
 ],
 "metadata": {
  "kernelspec": {
   "display_name": "Python 3",
   "language": "python",
   "name": "python3"
  },
  "language_info": {
   "codemirror_mode": {
    "name": "ipython",
    "version": 3
   },
   "file_extension": ".py",
   "mimetype": "text/x-python",
   "name": "python",
   "nbconvert_exporter": "python",
   "pygments_lexer": "ipython3",
   "version": "3.7.1"
  }
 },
 "nbformat": 4,
 "nbformat_minor": 2
}
